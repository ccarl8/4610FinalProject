{
 "cells": [
  {
   "cell_type": "code",
   "execution_count": 2,
   "id": "94d07eb9",
   "metadata": {},
   "outputs": [],
   "source": [
    "import numpy as np\n",
    "import matplotlib.pyplot as plt\n",
    "from scipy.sparse import spdiags\n",
    "import math as math"
   ]
  },
  {
   "cell_type": "markdown",
   "id": "3ef7d5c6",
   "metadata": {},
   "source": [
    "## Project background "
   ]
  },
  {
   "cell_type": "markdown",
   "id": "ab685647",
   "metadata": {},
   "source": [
    "Main theme & importance \n",
    "observations, models that are different than what we are doing "
   ]
  },
  {
   "cell_type": "markdown",
   "id": "5659318b",
   "metadata": {},
   "source": [
    "## Equations "
   ]
  },
  {
   "cell_type": "markdown",
   "id": "2e165217",
   "metadata": {},
   "source": [
    "We consider the problem of landscape erosion with the differential equation: $$q_{s} = -D(s)\\frac{\\partial h}{\\partial s}$$\n",
    "and the diffusion equation: $$\\frac{\\partial h}{\\partial t} = \\frac{\\partial^2 h}{\\partial s^2}$$\n",
    "\n",
    "\n",
    "and we consider the boundary condition: $$ h(s=0,t) = h_{max}$$ \n",
    "\n",
    "which implies that the sediment thickness is fixed at the maximum height at the initial boundary \n",
    "\n",
    "$$ h(t=0,0<s<L) = h_{max} s / L$$    \n",
    "first boundary, 100 m inland from the coastline, the town nurtures the beach by inputting sediment to the coastline at a constant rate . \n",
    "\n",
    "$$ h(t=0,s = L) = 0$$\n",
    "which implies that the sediment thickness is fixed at zero at the final boundary."
   ]
  },
  {
   "cell_type": "markdown",
   "id": "5188b209",
   "metadata": {},
   "source": [
    "The fundamental process being modeled is the erosion of a coastline. The process of erosion is diffusive meaning that the materials move at a rate proportional to the topographic slope. $q_s$ is the volumetric flux per unit of width measured in $\\frac{m^3}{s*m}$, D(s) is the diffusivity which is measured in $\\frac{m^2}{s}$, H is the elevation on the surface of the coastline in m, and s is the horizontal axis (either x or y) in m. "
   ]
  },
  {
   "cell_type": "code",
   "execution_count": null,
   "id": "50e1920f",
   "metadata": {},
   "outputs": [],
   "source": []
  },
  {
   "cell_type": "markdown",
   "id": "844cbc40",
   "metadata": {},
   "source": [
    "## Numerical Methods "
   ]
  },
  {
   "cell_type": "markdown",
   "id": "b2aec736",
   "metadata": {},
   "source": [
    "To analyze the evolution of the landscape, we are employing the Forward Euler method to solve the diffusion equation. We will also alter the initial condition several times to evaluate how varying the initial conditions can affect the erosion of the landscape over time. We chose the Forward Euler method to solve the diffusion equation because it is a relatively simple method and because the simplicity of our model, we believe this method would accurately capture the results of the model. "
   ]
  },
  {
   "cell_type": "markdown",
   "id": "4472ad9e",
   "metadata": {},
   "source": [
    "#### Set Parameters "
   ]
  },
  {
   "cell_type": "code",
   "execution_count": 74,
   "id": "631eb2d7",
   "metadata": {},
   "outputs": [],
   "source": [
    "D = 100   #function of the slope of the bedrock and thickness of the sediment\n",
    "L = 5000 #m distance into ocean when h = 0 \n",
    "H_max_init = 1000 #m \n",
    "qN = 1e6 #input of sediment from town nurturing beach\n",
    "tf = 1000 \n",
    "\n",
    "n = 200\n",
    "s = np.linspace(0,L,n)\n",
    "ds = s[1] - s[0]\n",
    "C_D = 0.1\n",
    "dt = (ds**2)*C_D/D\n",
    "\n",
    "tf = 1000\n",
    "\n",
    "nt = round(tf/dt) + 1\n",
    "\n",
    "s = np.expand_dims(np.linspace(0, L, n), axis=1)\n",
    "t = np.linspace(0, tf, nt+1)"
   ]
  },
  {
   "cell_type": "markdown",
   "id": "bbee4c3d",
   "metadata": {},
   "source": [
    "#### Pre Allocate Vectors "
   ]
  },
  {
   "cell_type": "code",
   "execution_count": 75,
   "id": "6e373dee",
   "metadata": {},
   "outputs": [],
   "source": [
    "h = np.zeros([n, nt+1])\n",
    "hinit = np.zeros([n, 1])"
   ]
  },
  {
   "cell_type": "markdown",
   "id": "a5026215",
   "metadata": {},
   "source": [
    "#### Diffusion evolution matrix "
   ]
  },
  {
   "cell_type": "code",
   "execution_count": 76,
   "id": "4464cfdf",
   "metadata": {},
   "outputs": [],
   "source": [
    "data = np.array([C_D*np.ones(n), (1 - 2*C_D)*np.ones(n), C_D*np.ones(n)])\n",
    "diags = np.array([-1, 0, 1])\n",
    "M = spdiags(data, diags, n, n).toarray()"
   ]
  },
  {
   "cell_type": "markdown",
   "id": "044b8913",
   "metadata": {},
   "source": [
    "#### Boundary Conditions"
   ]
  },
  {
   "cell_type": "code",
   "execution_count": 77,
   "id": "28d7cea4",
   "metadata": {},
   "outputs": [],
   "source": [
    "M[-1,-1] = 1\n",
    "M[-1,-2] = 0\n",
    "\n",
    "M[0,0] = 1-C_D\n",
    "M[0,1] = C_D\n",
    "dhdsn = qN/D\n",
    "Fknown = np.zeros(n)\n",
    "Fknown[0] = dhdsn*D*dt/ds"
   ]
  },
  {
   "cell_type": "markdown",
   "id": "3e8d97cc",
   "metadata": {},
   "source": [
    "#### Initial Condition"
   ]
  },
  {
   "cell_type": "code",
   "execution_count": 78,
   "id": "47207abb",
   "metadata": {},
   "outputs": [],
   "source": [
    "s1 = (x<L) \n",
    "\n",
    "hinit[s1] = H_max_init*s[s1]/L\n",
    "\n",
    "h[:,0] = hinit.transpose()"
   ]
  },
  {
   "cell_type": "markdown",
   "id": "62212cfd",
   "metadata": {},
   "source": [
    "#### Run Model"
   ]
  },
  {
   "cell_type": "code",
   "execution_count": 79,
   "id": "e50e75ae",
   "metadata": {},
   "outputs": [],
   "source": [
    "for k in np.arange(0,nt):\n",
    "    hnew = np.matmul(M,h[:,k]) - Fknown\n",
    "    h[:,k+1] = hnew.transpose()"
   ]
  },
  {
   "cell_type": "markdown",
   "id": "77a17edb",
   "metadata": {},
   "source": [
    "#### Plot"
   ]
  },
  {
   "cell_type": "code",
   "execution_count": 80,
   "id": "9f8d62e4",
   "metadata": {},
   "outputs": [
    {
     "data": {
      "text/plain": [
       "Text(0.5, 1.0, 'Coastline evolution over 1000 years with constant input of sediment')"
      ]
     },
     "execution_count": 80,
     "metadata": {},
     "output_type": "execute_result"
    },
    {
     "data": {
      "image/png": "[encoded data removed]",
      "text/plain": [
       "<Figure size 432x288 with 1 Axes>"
      ]
     },
     "metadata": {
      "needs_background": "light"
     },
     "output_type": "display_data"
    }
   ],
   "source": [
    "plt.plot(s,h)\n",
    "plt.xlabel('distance - s (meters)')\n",
    "plt.ylabel('height of sediment above bedrock - h (meters)')\n",
    "plt.title ('Coastline evolution over 1000 years with constant input of sediment')"
   ]
  },
  {
   "cell_type": "markdown",
   "id": "c3a55ee6",
   "metadata": {},
   "source": [
    "### Simulation with no sediment input "
   ]
  },
  {
   "cell_type": "code",
   "execution_count": 81,
   "id": "b759a18c",
   "metadata": {},
   "outputs": [],
   "source": [
    "qN = 0 #input of sediment from town nurturing beach"
   ]
  },
  {
   "cell_type": "markdown",
   "id": "e012058b",
   "metadata": {},
   "source": [
    "#### Pre Allocate Vectors "
   ]
  },
  {
   "cell_type": "code",
   "execution_count": 82,
   "id": "4ce50347",
   "metadata": {},
   "outputs": [],
   "source": [
    "h = np.zeros([n, nt+1])\n",
    "hinit = np.zeros([n, 1])"
   ]
  },
  {
   "cell_type": "markdown",
   "id": "654c17ce",
   "metadata": {},
   "source": [
    "#### Diffusion evolution matrix "
   ]
  },
  {
   "cell_type": "code",
   "execution_count": 83,
   "id": "6d125d3d",
   "metadata": {},
   "outputs": [],
   "source": [
    "data = np.array([C_D*np.ones(n), (1 - 2*C_D)*np.ones(n), C_D*np.ones(n)])\n",
    "diags = np.array([-1, 0, 1])\n",
    "M = spdiags(data, diags, n, n).toarray()"
   ]
  },
  {
   "cell_type": "markdown",
   "id": "941dfafd",
   "metadata": {},
   "source": [
    "#### Boundary Conditions"
   ]
  },
  {
   "cell_type": "code",
   "execution_count": 84,
   "id": "da8fddbb",
   "metadata": {},
   "outputs": [],
   "source": [
    "M[-1,-1] = 1\n",
    "M[-1,-2] = 0\n",
    "\n",
    "M[0,0] = 1-C_D\n",
    "M[0,1] = C_D\n",
    "dhdsn = qN/D\n",
    "Fknown = np.zeros(n)\n",
    "Fknown[0] = dhdsn*D*dt/ds"
   ]
  },
  {
   "cell_type": "markdown",
   "id": "42da5336",
   "metadata": {},
   "source": [
    "#### Initial Condition"
   ]
  },
  {
   "cell_type": "code",
   "execution_count": 85,
   "id": "2cb75906",
   "metadata": {},
   "outputs": [],
   "source": [
    "s1 = (x<L) \n",
    "\n",
    "hinit[s1] = H_max_init*s[s1]/L\n",
    "\n",
    "h[:,0] = hinit.transpose()"
   ]
  },
  {
   "cell_type": "markdown",
   "id": "d9d3718d",
   "metadata": {},
   "source": [
    "#### Run Model"
   ]
  },
  {
   "cell_type": "code",
   "execution_count": 86,
   "id": "3074c677",
   "metadata": {},
   "outputs": [],
   "source": [
    "for k in np.arange(0,nt):\n",
    "    hnew = np.matmul(M,h[:,k]) - Fknown\n",
    "    h[:,k+1] = hnew.transpose()"
   ]
  },
  {
   "cell_type": "markdown",
   "id": "0e81808c",
   "metadata": {},
   "source": [
    "#### Plot"
   ]
  },
  {
   "cell_type": "code",
   "execution_count": 87,
   "id": "4805be51",
   "metadata": {},
   "outputs": [
    {
     "data": {
      "text/plain": [
       "Text(0.5, 1.0, 'Coastline evolution over 1000 years with no sediment input')"
      ]
     },
     "execution_count": 87,
     "metadata": {},
     "output_type": "execute_result"
    },
    {
     "data": {
      "image/png": "[encoded data removed]",
      "text/plain": [
       "<Figure size 432x288 with 1 Axes>"
      ]
     },
     "metadata": {
      "needs_background": "light"
     },
     "output_type": "display_data"
    }
   ],
   "source": [
    "plt.plot(s,h)\n",
    "plt.xlabel('distance - s (meters)')\n",
    "plt.ylabel('height of sediment above bedrock - h (meters)')\n",
    "plt.title ('Coastline evolution over 1000 years with no sediment input')"
   ]
  },
  {
   "cell_type": "markdown",
   "id": "2e06e3d8",
   "metadata": {},
   "source": [
    "### Lower Sediment Input "
   ]
  },
  {
   "cell_type": "code",
   "execution_count": 88,
   "id": "c9ecc155",
   "metadata": {},
   "outputs": [],
   "source": [
    "qN = 1e4 #input of sediment from town nurturing beach"
   ]
  },
  {
   "cell_type": "markdown",
   "id": "2b472444",
   "metadata": {},
   "source": [
    "#### Pre Allocate Vectors "
   ]
  },
  {
   "cell_type": "code",
   "execution_count": 89,
   "id": "2cc4d7af",
   "metadata": {},
   "outputs": [],
   "source": [
    "h = np.zeros([n, nt+1])\n",
    "hinit = np.zeros([n, 1])"
   ]
  },
  {
   "cell_type": "markdown",
   "id": "0031c5eb",
   "metadata": {},
   "source": [
    "#### Diffusion evolution matrix "
   ]
  },
  {
   "cell_type": "code",
   "execution_count": 90,
   "id": "a5a6dc77",
   "metadata": {},
   "outputs": [],
   "source": [
    "data = np.array([C_D*np.ones(n), (1 - 2*C_D)*np.ones(n), C_D*np.ones(n)])\n",
    "diags = np.array([-1, 0, 1])\n",
    "M = spdiags(data, diags, n, n).toarray()"
   ]
  },
  {
   "cell_type": "markdown",
   "id": "ca12d375",
   "metadata": {},
   "source": [
    "#### Boundary Conditions"
   ]
  },
  {
   "cell_type": "code",
   "execution_count": 91,
   "id": "92f2b7e6",
   "metadata": {},
   "outputs": [],
   "source": [
    "M[-1,-1] = 1\n",
    "M[-1,-2] = 0\n",
    "\n",
    "M[0,0] = 1-C_D\n",
    "M[0,1] = C_D\n",
    "dhdsn = qN/D\n",
    "Fknown = np.zeros(n)\n",
    "Fknown[0] = dhdsn*D*dt/ds"
   ]
  },
  {
   "cell_type": "markdown",
   "id": "53f4b1e7",
   "metadata": {},
   "source": [
    "#### Initial Condition"
   ]
  },
  {
   "cell_type": "code",
   "execution_count": 92,
   "id": "df9195de",
   "metadata": {},
   "outputs": [],
   "source": [
    "s1 = (x<L) \n",
    "\n",
    "hinit[s1] = H_max_init*s[s1]/L\n",
    "\n",
    "h[:,0] = hinit.transpose()"
   ]
  },
  {
   "cell_type": "markdown",
   "id": "dbe2738c",
   "metadata": {},
   "source": [
    "#### Run Model"
   ]
  },
  {
   "cell_type": "code",
   "execution_count": 93,
   "id": "aa29741b",
   "metadata": {},
   "outputs": [],
   "source": [
    "for k in np.arange(0,nt):\n",
    "    hnew = np.matmul(M,h[:,k]) - Fknown\n",
    "    h[:,k+1] = hnew.transpose()"
   ]
  },
  {
   "cell_type": "markdown",
   "id": "7babadb1",
   "metadata": {},
   "source": [
    "#### Plot"
   ]
  },
  {
   "cell_type": "code",
   "execution_count": 94,
   "id": "311fc844",
   "metadata": {},
   "outputs": [
    {
     "data": {
      "text/plain": [
       "Text(0.5, 1.0, 'Coastline evolution over 1000 years with lower sediment input than intial run')"
      ]
     },
     "execution_count": 94,
     "metadata": {},
     "output_type": "execute_result"
    },
    {
     "data": {
      "image/png": "[encoded data removed]",
      "text/plain": [
       "<Figure size 432x288 with 1 Axes>"
      ]
     },
     "metadata": {
      "needs_background": "light"
     },
     "output_type": "display_data"
    }
   ],
   "source": [
    "plt.plot(s,h)\n",
    "plt.xlabel('distance - s (meters)')\n",
    "plt.ylabel('height of sediment above bedrock - h (meters)')\n",
    "plt.title ('Coastline evolution over 1000 years with lower sediment input than intial run')"
   ]
  },
  {
   "cell_type": "markdown",
   "id": "885a13e9",
   "metadata": {},
   "source": [
    "### Simulation with more sediment input"
   ]
  },
  {
   "cell_type": "code",
   "execution_count": 95,
   "id": "08c7f7fe",
   "metadata": {},
   "outputs": [],
   "source": [
    "qN = 1e8 #input of sediment from town nurturing beach"
   ]
  },
  {
   "cell_type": "markdown",
   "id": "a0fd09e7",
   "metadata": {},
   "source": [
    "#### Pre Allocate Vectors "
   ]
  },
  {
   "cell_type": "code",
   "execution_count": 96,
   "id": "4b19b11d",
   "metadata": {},
   "outputs": [],
   "source": [
    "h = np.zeros([n, nt+1])\n",
    "hinit = np.zeros([n, 1])"
   ]
  },
  {
   "cell_type": "markdown",
   "id": "b7ef91e7",
   "metadata": {},
   "source": [
    "#### Diffusion evolution matrix "
   ]
  },
  {
   "cell_type": "code",
   "execution_count": 97,
   "id": "43a6428f",
   "metadata": {},
   "outputs": [],
   "source": [
    "data = np.array([C_D*np.ones(n), (1 - 2*C_D)*np.ones(n), C_D*np.ones(n)])\n",
    "diags = np.array([-1, 0, 1])\n",
    "M = spdiags(data, diags, n, n).toarray()"
   ]
  },
  {
   "cell_type": "markdown",
   "id": "d4a23550",
   "metadata": {},
   "source": [
    "#### Boundary Conditions"
   ]
  },
  {
   "cell_type": "code",
   "execution_count": 98,
   "id": "c3bec6e0",
   "metadata": {},
   "outputs": [],
   "source": [
    "M[-1,-1] = 1\n",
    "M[-1,-2] = 0\n",
    "\n",
    "M[0,0] = 1-C_D\n",
    "M[0,1] = C_D\n",
    "dhdsn = qN/D\n",
    "Fknown = np.zeros(n)\n",
    "Fknown[0] = dhdsn*D*dt/ds"
   ]
  },
  {
   "cell_type": "markdown",
   "id": "5bf21a90",
   "metadata": {},
   "source": [
    "#### Initial Condition"
   ]
  },
  {
   "cell_type": "code",
   "execution_count": 99,
   "id": "3b4150aa",
   "metadata": {},
   "outputs": [],
   "source": [
    "s1 = (x<L) \n",
    "\n",
    "hinit[s1] = H_max_init*s[s1]/L\n",
    "\n",
    "h[:,0] = hinit.transpose()"
   ]
  },
  {
   "cell_type": "markdown",
   "id": "52e28c2c",
   "metadata": {},
   "source": [
    "#### Run Model"
   ]
  },
  {
   "cell_type": "code",
   "execution_count": 100,
   "id": "97133aa5",
   "metadata": {},
   "outputs": [],
   "source": [
    "for k in np.arange(0,nt):\n",
    "    hnew = np.matmul(M,h[:,k]) - Fknown\n",
    "    h[:,k+1] = hnew.transpose()"
   ]
  },
  {
   "cell_type": "markdown",
   "id": "de6af61b",
   "metadata": {},
   "source": [
    "#### Plot"
   ]
  },
  {
   "cell_type": "code",
   "execution_count": 102,
   "id": "1c50a4d3",
   "metadata": {},
   "outputs": [
    {
     "data": {
      "text/plain": [
       "Text(0.5, 1.0, 'Coastline evolution over 1000 years with higher sediment input than initial')"
      ]
     },
     "execution_count": 102,
     "metadata": {},
     "output_type": "execute_result"
    },
    {
     "data": {
      "image/png": "[encoded data removed]",
      "text/plain": [
       "<Figure size 432x288 with 1 Axes>"
      ]
     },
     "metadata": {
      "needs_background": "light"
     },
     "output_type": "display_data"
    }
   ],
   "source": [
    "plt.plot(s,h)\n",
    "plt.xlabel('distance - s (meters)')\n",
    "plt.ylabel('height of sediment above bedrock - h (meters)')\n",
    "plt.title ('Coastline evolution over 1000 years with higher sediment input than initial')"
   ]
  },
  {
   "cell_type": "code",
   "execution_count": null,
   "id": "ae1945da",
   "metadata": {},
   "outputs": [],
   "source": []
  },
  {
   "cell_type": "markdown",
   "id": "b3cb1e7f",
   "metadata": {},
   "source": [
    "## Results "
   ]
  },
  {
   "cell_type": "code",
   "execution_count": null,
   "id": "4929dcd3",
   "metadata": {},
   "outputs": [],
   "source": []
  },
  {
   "cell_type": "code",
   "execution_count": null,
   "id": "a17255d3",
   "metadata": {},
   "outputs": [],
   "source": []
  },
  {
   "cell_type": "code",
   "execution_count": null,
   "id": "d3b258a0",
   "metadata": {},
   "outputs": [],
   "source": []
  },
  {
   "cell_type": "markdown",
   "id": "74f2545e",
   "metadata": {},
   "source": [
    "What simulations did you run with the model?\n",
    "Describe the results.\n",
    "How do the results compare with any known solutions, or data?\n",
    "How do the results change with different methods, time steps, grid spacing, or model parameters?\n",
    "What did the model tell you about the process you were studying?\n",
    "How could the model be improved in terms of methods used or processes included?\n"
   ]
  },
  {
   "cell_type": "markdown",
   "id": "2a17b3d8",
   "metadata": {},
   "source": [
    "## References "
   ]
  },
  {
   "cell_type": "markdown",
   "id": "2037e4e3",
   "metadata": {},
   "source": []
  }
 ],
 "metadata": {
  "kernelspec": {
   "display_name": "Python 3 (ipykernel)",
   "language": "python",
   "name": "python3"
  },
  "language_info": {
   "codemirror_mode": {
    "name": "ipython",
    "version": 3
   },
   "file_extension": ".py",
   "mimetype": "text/x-python",
   "name": "python",
   "nbconvert_exporter": "python",
   "pygments_lexer": "ipython3",
   "version": "3.8.12"
  }
 },
 "nbformat": 4,
 "nbformat_minor": 5
}
