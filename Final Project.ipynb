{
 "cells": [
  {
   "cell_type": "code",
   "execution_count": 1,
   "id": "94d07eb9",
   "metadata": {},
   "outputs": [],
   "source": [
    "import numpy as np\n",
    "import matplotlib.pyplot as plt\n",
    "from scipy.sparse import spdiags\n",
    "import math as math"
   ]
  },
  {
   "cell_type": "markdown",
   "id": "3ef7d5c6",
   "metadata": {},
   "source": [
    "## Project background "
   ]
  },
  {
   "cell_type": "markdown",
   "id": "ab685647",
   "metadata": {},
   "source": [
    "Main theme & importance \n",
    "observations, models that are different than what we are doing "
   ]
  },
  {
   "cell_type": "markdown",
   "id": "5659318b",
   "metadata": {},
   "source": [
    "## Equations "
   ]
  },
  {
   "cell_type": "markdown",
   "id": "2e165217",
   "metadata": {},
   "source": [
    "We consider the problem of hill slope erosion with the diffusion equation: $$\\frac{\\partial h}{\\partial t} = \\frac{\\partial^2 h}{\\partial x^2}$$\n",
    "\n",
    "and we consider the boundary condition: $$ h(x=0,2L,t)=0$$ \n",
    "which implies that the sediment thickness remains fixed at zero at the bounds of the initial hill slope. The initial condition is a triangular hill\n",
    "\n",
    "$ h(t=0,0<x<L) = H_{max} x / L$\n",
    "\n",
    "$ h(t=0,L<x<2L) = H_{max} [1- (x-L)/ L]$"
   ]
  },
  {
   "cell_type": "code",
   "execution_count": null,
   "id": "a8b81893",
   "metadata": {},
   "outputs": [],
   "source": []
  },
  {
   "cell_type": "code",
   "execution_count": null,
   "id": "50e1920f",
   "metadata": {},
   "outputs": [],
   "source": []
  },
  {
   "cell_type": "markdown",
   "id": "844cbc40",
   "metadata": {},
   "source": [
    "## Numerical Methods "
   ]
  },
  {
   "cell_type": "markdown",
   "id": "b2aec736",
   "metadata": {},
   "source": [
    "description & why we chose them "
   ]
  },
  {
   "cell_type": "code",
   "execution_count": 2,
   "id": "9c9538bd",
   "metadata": {},
   "outputs": [],
   "source": [
    "# Code "
   ]
  },
  {
   "cell_type": "code",
   "execution_count": null,
   "id": "631eb2d7",
   "metadata": {},
   "outputs": [],
   "source": []
  },
  {
   "cell_type": "code",
   "execution_count": null,
   "id": "9f8d62e4",
   "metadata": {},
   "outputs": [],
   "source": []
  },
  {
   "cell_type": "markdown",
   "id": "b3cb1e7f",
   "metadata": {},
   "source": [
    "## Results "
   ]
  },
  {
   "cell_type": "code",
   "execution_count": null,
   "id": "4929dcd3",
   "metadata": {},
   "outputs": [],
   "source": []
  },
  {
   "cell_type": "code",
   "execution_count": null,
   "id": "a17255d3",
   "metadata": {},
   "outputs": [],
   "source": []
  },
  {
   "cell_type": "code",
   "execution_count": null,
   "id": "d3b258a0",
   "metadata": {},
   "outputs": [],
   "source": []
  },
  {
   "cell_type": "markdown",
   "id": "74f2545e",
   "metadata": {},
   "source": [
    "What simulations did you run with the model?\n",
    "Describe the results.\n",
    "How do the results compare with any known solutions, or data?\n",
    "How do the results change with different methods, time steps, grid spacing, or model parameters?\n",
    "What did the model tell you about the process you were studying?\n",
    "How could the model be improved in terms of methods used or processes included?\n"
   ]
  },
  {
   "cell_type": "markdown",
   "id": "2a17b3d8",
   "metadata": {},
   "source": [
    "## References "
   ]
  },
  {
   "cell_type": "markdown",
   "id": "2037e4e3",
   "metadata": {},
   "source": []
  }
 ],
 "metadata": {
  "kernelspec": {
   "display_name": "Python 3 (ipykernel)",
   "language": "python",
   "name": "python3"
  },
  "language_info": {
   "codemirror_mode": {
    "name": "ipython",
    "version": 3
   },
   "file_extension": ".py",
   "mimetype": "text/x-python",
   "name": "python",
   "nbconvert_exporter": "python",
   "pygments_lexer": "ipython3",
   "version": "3.8.13"
  }
 },
 "nbformat": 4,
 "nbformat_minor": 5
}
