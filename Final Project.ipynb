{
 "cells": [
  {
   "cell_type": "code",
   "execution_count": 2,
   "id": "94d07eb9",
   "metadata": {},
   "outputs": [],
   "source": [
    "import numpy as np\n",
    "import matplotlib.pyplot as plt\n",
    "from scipy.sparse import spdiags\n",
    "import math as math"
   ]
  },
  {
   "cell_type": "markdown",
   "id": "3ef7d5c6",
   "metadata": {},
   "source": [
    "## Project background "
   ]
  },
  {
   "cell_type": "markdown",
   "id": "ab685647",
   "metadata": {},
   "source": [
    "Main theme & importance \n",
    "observations, models that are different than what we are doing "
   ]
  },
  {
   "cell_type": "markdown",
   "id": "5659318b",
   "metadata": {},
   "source": [
    "## Equations "
   ]
  },
  {
   "cell_type": "markdown",
   "id": "2e165217",
   "metadata": {},
   "source": [
    "We consider the problem of landscape erosion with the differential equation: $$q_{s} = -D\\frac{\\partial^2 h}{\\partial s^2}$$\n",
    "and the diffusion equation: $$\\frac{\\partial h}{\\partial t} = \\frac{\\partial^2 h}{\\partial s^2}$$\n",
    "\n",
    "\n",
    "and we consider the boundary condition: $$ h(s=0,2L,t)=0$$ \n",
    "which implies that the sediment thickness remains fixed at zero at the bounds of the initial hill slope. The initial condition is a triangular hill\n",
    "\n",
    "$ h(t=0,0<x<L) = H_{max} x / L$\n",
    "\n",
    "$ h(t=0,L<x<2L) = H_{max} [1- (x-L)/ L]$"
   ]
  },
  {
   "cell_type": "code",
   "execution_count": null,
   "id": "a8b81893",
   "metadata": {},
   "outputs": [],
   "source": []
  },
  {
   "cell_type": "code",
   "execution_count": null,
   "id": "50e1920f",
   "metadata": {},
   "outputs": [],
   "source": []
  },
  {
   "cell_type": "markdown",
   "id": "844cbc40",
   "metadata": {},
   "source": [
    "## Numerical Methods "
   ]
  },
  {
   "cell_type": "markdown",
   "id": "b2aec736",
   "metadata": {},
   "source": [
    "description & why we chose them "
   ]
  },
  {
   "cell_type": "markdown",
   "id": "687ccd57",
   "metadata": {},
   "source": [
    "#### Set Parameters "
   ]
  },
  {
   "cell_type": "code",
   "execution_count": 3,
   "id": "631eb2d7",
   "metadata": {},
   "outputs": [],
   "source": [
    "D = 0.1\n",
    "L = 1000\n",
    "H_max_init = 200\n",
    "qR = 1e4\n",
    "tf = 1000\n",
    "\n",
    "n = 200\n",
    "x = np.linspace(0,2*L,n)\n",
    "dx = x[1] - x[0]\n",
    "C_D = 0.1\n",
    "dt = (dx**2)*C_D/D\n",
    "\n",
    "tf = 1000\n",
    "\n",
    "nt = round(tf/dt) + 1\n",
    "\n",
    "x = np.expand_dims(np.linspace(0,2*L,n),axis=1)\n",
    "t = np.linspace(0,tf,nt+1)"
   ]
  },
  {
   "cell_type": "markdown",
   "id": "129d9ff7",
   "metadata": {},
   "source": [
    "#### Pre Allocate Vectors "
   ]
  },
  {
   "cell_type": "code",
   "execution_count": 4,
   "id": "1380c8d8",
   "metadata": {},
   "outputs": [],
   "source": [
    "h = np.zeros([n,nt+1])\n",
    "hinit = np.zeros([n,1])"
   ]
  },
  {
   "cell_type": "markdown",
   "id": "5b3c2f40",
   "metadata": {},
   "source": [
    "#### Diffusion evolution matrix "
   ]
  },
  {
   "cell_type": "code",
   "execution_count": 5,
   "id": "4630486b",
   "metadata": {},
   "outputs": [],
   "source": [
    "data = np.array([C_D*np.ones(n), (1-2*C_D)*np.ones(n), C_D*np.ones(n)])\n",
    "diags = np.array([-1, 0, 1])\n",
    "M = spdiags(data, diags, n, n).toarray()"
   ]
  },
  {
   "cell_type": "markdown",
   "id": "c1c4b039",
   "metadata": {},
   "source": [
    "#### Boundary Conditions"
   ]
  },
  {
   "cell_type": "code",
   "execution_count": 10,
   "id": "c50ccf47",
   "metadata": {},
   "outputs": [],
   "source": [
    "M[-1,-1] = 1\n",
    "M[-1,-2] = 0\n",
    "\n",
    "M[0,0] = 1-C_D\n",
    "M[0,1] = C_D\n",
    "dhdxr = qR/D\n",
    "Fknown = np.zeros(n)\n",
    "Fknown[0] = dhdxr*D*dt/dx"
   ]
  },
  {
   "cell_type": "markdown",
   "id": "3b16e34c",
   "metadata": {},
   "source": [
    "#### Initial Condition"
   ]
  },
  {
   "cell_type": "code",
   "execution_count": 11,
   "id": "9848d0bd",
   "metadata": {},
   "outputs": [],
   "source": [
    "x1 = (x<L) \n",
    "x2 = (x>L) \n",
    "hinit[x1] = H_max_init*x[x1]/L\n",
    "hinit[x2] = H_max_init*(2 - x[x2]/L)\n",
    "\n",
    "h[:,0] = hinit.transpose()"
   ]
  },
  {
   "cell_type": "markdown",
   "id": "347dc290",
   "metadata": {},
   "source": [
    "#### Run Model"
   ]
  },
  {
   "cell_type": "code",
   "execution_count": 12,
   "id": "287d835e",
   "metadata": {},
   "outputs": [],
   "source": [
    "for k in np.arange(0,nt):\n",
    "    hnew = np.matmul(M,h[:,k]) - Fknown\n",
    "    h[:,k+1] = hnew.transpose()"
   ]
  },
  {
   "cell_type": "markdown",
   "id": "e3519109",
   "metadata": {},
   "source": [
    "#### Plot"
   ]
  },
  {
   "cell_type": "code",
   "execution_count": null,
   "id": "9f8d62e4",
   "metadata": {},
   "outputs": [],
   "source": [
    "plt.plot(x,h)"
   ]
  },
  {
   "cell_type": "markdown",
   "id": "b3cb1e7f",
   "metadata": {},
   "source": [
    "## Results "
   ]
  },
  {
   "cell_type": "code",
   "execution_count": null,
   "id": "4929dcd3",
   "metadata": {},
   "outputs": [],
   "source": []
  },
  {
   "cell_type": "code",
   "execution_count": null,
   "id": "a17255d3",
   "metadata": {},
   "outputs": [],
   "source": []
  },
  {
   "cell_type": "code",
   "execution_count": null,
   "id": "d3b258a0",
   "metadata": {},
   "outputs": [],
   "source": []
  },
  {
   "cell_type": "markdown",
   "id": "74f2545e",
   "metadata": {},
   "source": [
    "What simulations did you run with the model?\n",
    "Describe the results.\n",
    "How do the results compare with any known solutions, or data?\n",
    "How do the results change with different methods, time steps, grid spacing, or model parameters?\n",
    "What did the model tell you about the process you were studying?\n",
    "How could the model be improved in terms of methods used or processes included?\n"
   ]
  },
  {
   "cell_type": "markdown",
   "id": "2a17b3d8",
   "metadata": {},
   "source": [
    "## References "
   ]
  },
  {
   "cell_type": "markdown",
   "id": "2037e4e3",
   "metadata": {},
   "source": []
  }
 ],
 "metadata": {
  "kernelspec": {
   "display_name": "Python 3 (ipykernel)",
   "language": "python",
   "name": "python3"
  },
  "language_info": {
   "codemirror_mode": {
    "name": "ipython",
    "version": 3
   },
   "file_extension": ".py",
   "mimetype": "text/x-python",
   "name": "python",
   "nbconvert_exporter": "python",
   "pygments_lexer": "ipython3",
   "version": "3.8.12"
  }
 },
 "nbformat": 4,
 "nbformat_minor": 5
}
